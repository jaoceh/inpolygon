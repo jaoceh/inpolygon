{
 "cells": [
  {
   "cell_type": "markdown",
   "metadata": {},
   "source": [
    "В рамках задачи необходимо определить, находится ли точка с координатами(x,y) внутри полигона с координатами вершин(xp[i],yp[i])\n",
    "\n",
    "Для решения проводим такой алгоритм:\n",
    "1) Выпускаем из точки луч, параллельный оси абсцисс\n",
    "2) Считаем, сколько раз он пересечет грани полигона\n",
    "* если четное количество - точка вне полигона\n",
    "* если нечетное количество - точка внутри полигона"
   ]
  },
  {
   "cell_type": "markdown",
   "metadata": {},
   "source": [
    "Уравнение луча: \n",
    " \\begin{cases}\n",
    "   x = x_0 + t\\\\\n",
    "   y = y_0\\\\\n",
    "   t\\geq0\n",
    " \\end{cases}\n",
    " "
   ]
  },
  {
   "cell_type": "markdown",
   "metadata": {},
   "source": [
    "Уравнение отрезка:\n",
    " \\begin{cases}\n",
    "   x = sx_1 + (1-s)x_2\\\\\n",
    "   y = sy_1 + (1-s)y_2\\\\\n",
    "   0\\leq s\\leq1\n",
    " \\end{cases}"
   ]
  },
  {
   "cell_type": "markdown",
   "metadata": {},
   "source": [
    "Соответственно, нам необходимо решить систему уравнений\n",
    "\n",
    " \\begin{cases}\n",
    "   x_0 + t = sx_1 + (1-s)x_2\\\\\n",
    "   y_0 = sy_1 + (1-s)y_2\\\\\n",
    " \\end{cases}\n",
    "относительно _t_ и _s_ и проверить, удовлетворяют ли они условиям"
   ]
  },
  {
   "cell_type": "code",
   "execution_count": 4,
   "metadata": {},
   "outputs": [],
   "source": [
    "def inPolygon(x, y, xp, yp):\n",
    "    c=0\n",
    "    for i in range(len(xp)):\n",
    "        if (\n",
    "            ((yp[i]<=y and y<yp[i-1]) or (yp[i-1]<=y and y<yp[i])\n",
    "            ) and\n",
    "            (x <= (xp[i-1] - xp[i]) * (y - yp[i]) / (yp[i-1] - yp[i]) + xp[i])): \n",
    "            c = 1 - c    \n",
    "    return c "
   ]
  },
  {
   "cell_type": "markdown",
   "metadata": {},
   "source": [
    "Загружаем данные"
   ]
  },
  {
   "cell_type": "code",
   "execution_count": 6,
   "metadata": {},
   "outputs": [],
   "source": [
    "import pandas as pd"
   ]
  },
  {
   "cell_type": "code",
   "execution_count": 7,
   "metadata": {},
   "outputs": [],
   "source": [
    "users = pd.read_csv('user_coordinates.csv')\n",
    "places = pd.read_csv('place_zone_coordinates.csv')"
   ]
  },
  {
   "cell_type": "markdown",
   "metadata": {},
   "source": [
    "Используем функцию __inPolygon__ для каждого пользователя и ресторанов"
   ]
  },
  {
   "cell_type": "code",
   "execution_count": 8,
   "metadata": {},
   "outputs": [],
   "source": [
    "res = pd.DataFrame(columns=['id', 'number_of_places_available'])\n",
    "for index,user in users.iterrows():\n",
    "    n = 0\n",
    "    for place in places.groupby('place_id'):\n",
    "        if inPolygon(user['loc_lon'], user['loc_lat'], list(place[1]['loc_lon']), list(place[1]['loc_lat'])):\n",
    "            n += 1\n",
    "    res.loc[index] = [user['user_id'],n]"
   ]
  },
  {
   "cell_type": "markdown",
   "metadata": {},
   "source": [
    "Если необходимо, сохраняем результат в csv"
   ]
  },
  {
   "cell_type": "code",
   "execution_count": 9,
   "metadata": {},
   "outputs": [],
   "source": [
    "res.to_csv('result.csv', index=False)"
   ]
  }
 ],
 "metadata": {
  "kernelspec": {
   "display_name": "Python 3",
   "language": "python",
   "name": "python3"
  },
  "language_info": {
   "codemirror_mode": {
    "name": "ipython",
    "version": 3
   },
   "file_extension": ".py",
   "mimetype": "text/x-python",
   "name": "python",
   "nbconvert_exporter": "python",
   "pygments_lexer": "ipython3",
   "version": "3.6.9"
  }
 },
 "nbformat": 4,
 "nbformat_minor": 2
}
